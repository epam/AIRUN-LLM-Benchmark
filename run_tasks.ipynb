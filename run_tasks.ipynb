{
 "cells": [
  {
   "cell_type": "code",
   "id": "6ea6939810f33ed3",
   "metadata": {
    "ExecuteTime": {
     "end_time": "2025-07-05T13:39:06.871110Z",
     "start_time": "2025-07-05T13:38:53.296659Z"
    }
   },
   "source": [
    "from Utils.llm.config import Model\n",
    "from Utils.execute_test import main as execute\n",
    "\n",
    "attempts = 1  # how much times each experiment will be launched\n",
    "\n",
    "# tasks to launch (will be launched only this task)\n",
    "spot_launch_list = [\n",
    "    # 'GenerateReactApp.md',\n",
    "]\n",
    "\n",
    "# tasks to skip\n",
    "skip_list = [\n",
    "    # 'GenerateReactApp.md',\n",
    "]\n",
    "\n",
    "model = Model.Opus_4_Thinking\n",
    "lang = \"JS\"  # language specific folder name, if your files in Dataset/JS use JS\n",
    "execute(model, lang, attempts, spot_launch_list, skip_list)"
   ],
   "outputs": [
    {
     "name": "stdout",
     "output_type": "stream",
     "text": [
      "Starting answers generation for GPT41_0414\n",
      "Attempt #1, get answer for FixAngularBugMultimodal_ToDoApp_AngularJS_Bug1_avg_avg.md\n",
      "\tAttempt 1 at 2025-07-05 16:38:53.302522\n",
      "\tSuccess! Execution time: 13.564381837844849\n"
     ]
    }
   ],
   "execution_count": 8
  },
  {
   "cell_type": "code",
   "execution_count": null,
   "id": "cbc5ddafa17881a8",
   "metadata": {},
   "outputs": [],
   "source": [
    "# create summary report\n",
    "from Utils.get_tokens_and_time import main as summarize\n",
    "from Utils.llm.config import Model\n",
    "\n",
    "langs = [\n",
    "    \"JS\",\n",
    "    # 'Java',\n",
    "]\n",
    "\n",
    "models = [\n",
    "    Model.Opus_4_Thinking,\n",
    "]\n",
    "\n",
    "summarize(models=models, langs=langs)"
   ]
  },
  {
   "cell_type": "code",
   "execution_count": null,
   "id": "a12eae6bb05f2a0f",
   "metadata": {},
   "outputs": [],
   "source": [
    "from Utils.auto_eval import main as evaluate\n",
    "from Utils.llm.config import Model\n",
    "\n",
    "# evaluate model results based on summary report\n",
    "evaluate(model=Model.Opus_4_Thinking)"
   ]
  }
 ],
 "metadata": {
  "kernelspec": {
   "display_name": "airun-llm-benchmark-6JQ02HIW-py3.12",
   "language": "python",
   "name": "python3"
  },
  "language_info": {
   "codemirror_mode": {
    "name": "ipython",
    "version": 3
   },
   "file_extension": ".py",
   "mimetype": "text/x-python",
   "name": "python",
   "nbconvert_exporter": "python",
   "pygments_lexer": "ipython3",
   "version": "3.12.9"
  }
 },
 "nbformat": 4,
 "nbformat_minor": 5
}
