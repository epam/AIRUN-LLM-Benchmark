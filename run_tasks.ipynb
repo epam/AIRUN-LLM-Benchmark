{
 "cells": [
  {
   "cell_type": "code",
   "id": "f43a6f20d26722c5",
   "metadata": {},
   "source": [
    "from Utils.enrich_tasks import enrich_tasks\n",
    "\n",
    "enrich_tasks()"
   ],
   "outputs": [],
   "execution_count": null
  },
  {
   "metadata": {},
   "cell_type": "code",
   "source": [
    "from Utils.llm.config import Model\n",
    "from Utils.execute_test import main as execute\n",
    "\n",
    "attempts = 1  # how much times each experiment will be launched\n",
    "\n",
    "# tasks to launch (will be launched only this task)\n",
    "spot_launch_list = [\n",
    "    # 'GenerateReactApp.md',\n",
    "]\n",
    "\n",
    "# tasks to skip\n",
    "skip_list = [\n",
    "    # 'GenerateReactApp.md',\n",
    "]\n",
    "\n",
    "model = Model.Llama_4_Maverick\n",
    "lang = \"JS\"  # language specific folder name, if your files in Dataset/JS use JS\n",
    "execute(model, lang, attempts, spot_launch_list, skip_list)\n"
   ],
   "id": "5ac2cd33ac7b276b",
   "outputs": [],
   "execution_count": null
  },
  {
   "metadata": {},
   "cell_type": "code",
   "source": [
    "# create summary report\n",
    "from Utils.get_tokens_and_time import main as summarize\n",
    "from Utils.llm.config import Model\n",
    "\n",
    "langs = [\n",
    "    'JS',\n",
    "    # 'Java',\n",
    "]\n",
    "\n",
    "models = [\n",
    "    Model.Llama_4_Maverick,\n",
    "]\n",
    "\n",
    "summarize(models=models, langs=langs)"
   ],
   "id": "6c7f1cb958e7f4cc",
   "outputs": [],
   "execution_count": null
  },
  {
   "metadata": {},
   "cell_type": "code",
   "source": [
    "from Utils.auto_eval import main as evaluate\n",
    "from Utils.llm.config import Model\n",
    "\n",
    "# evaluate model results based on summary report\n",
    "evaluate(model=Model.Llama_4_Maverick)"
   ],
   "id": "3d5574c12036fb17",
   "outputs": [],
   "execution_count": null
  },
  {
   "metadata": {},
   "cell_type": "code",
   "source": "",
   "id": "c8d981c9abd45ea6",
   "outputs": [],
   "execution_count": null
  }
 ],
 "metadata": {
  "kernelspec": {
   "display_name": "Python 3 (ipykernel)",
   "language": "python",
   "name": "python3"
  },
  "language_info": {
   "codemirror_mode": {
    "name": "ipython",
    "version": 3
   },
   "file_extension": ".py",
   "mimetype": "text/x-python",
   "name": "python",
   "nbconvert_exporter": "python",
   "pygments_lexer": "ipython3",
   "version": "3.12.8"
  }
 },
 "nbformat": 4,
 "nbformat_minor": 5
}
