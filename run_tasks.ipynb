{
 "cells": [
  {
   "cell_type": "code",
   "execution_count": null,
   "id": "e928a405b0f522e7",
   "metadata": {},
   "outputs": [],
   "source": [
    "from Utils.llm.config import Model\n",
    "from Utils.execute_test import main as execute\n",
    "\n",
    "attempts = 1  # how much times each experiment will be launched\n",
    "\n",
    "# tasks to launch (will be launched only this task)\n",
    "spot_launch_list = [\n",
    "    # 'GenerateReactApp.md',\n",
    "]\n",
    "\n",
    "# tasks to skip\n",
    "skip_list = [\n",
    "    # 'GenerateReactApp.md',\n",
    "]\n",
    "\n",
    "model = Model.GPT5_0807\n",
    "lang = \"JS\"  # language specific folder name, if your files in Dataset/JS use JS\n",
    "execute(model, lang, attempts, spot_launch_list, skip_list,\n",
    "        categories_skip_list=['multimodal'], categories_launch_list=[\"solution_template_generation\"])"
   ]
  },
  {
   "cell_type": "code",
   "execution_count": 6,
   "id": "daddc4c8465f8a78",
   "metadata": {
    "ExecuteTime": {
     "end_time": "2025-09-09T10:26:41.376338Z",
     "start_time": "2025-09-09T10:26:41.363674Z"
    }
   },
   "outputs": [
    {
     "name": "stdout",
     "output_type": "stream",
     "text": [
      "Summary written successfully for GPT5_0807 and lang JS to /Users/Ilia_Korol/genai/AIRUN-LLM-Benchmark-Results/Output/GPT5_0807/JS/summary.csv\n"
     ]
    }
   ],
   "source": [
    "# create summary report\n",
    "from Utils.get_tokens_and_time import main as summarize\n",
    "from Utils.llm.config import Model\n",
    "\n",
    "langs = [\n",
    "    \"JS\",\n",
    "    # 'Java',\n",
    "]\n",
    "\n",
    "models = [\n",
    "    Model.GPT5_0807,\n",
    "]\n",
    "\n",
    "summarize(models=models, langs=langs, output_filename=\"summary.csv\")\n",
    "# summarize(models=models, langs=langs, categories=[\"multimodal\"], output_filename=\"summary_multimodal.csv\")"
   ]
  },
  {
   "cell_type": "code",
   "execution_count": null,
   "id": "3079957775b8fc3f",
   "metadata": {},
   "outputs": [],
   "source": [
    "from Utils.auto_eval import evaluate\n",
    "from Utils.llm.config import Model\n",
    "\n",
    "# evaluate model results based on summary report\n",
    "evaluate(model=Model.GPT5_0807, summary_filename=\"summary.csv\")\n",
    "# evaluate(model=Model.GPT5_0807, summary_filename=\"summary_multimodal.csv\")"
   ]
  },
  {
   "cell_type": "code",
   "execution_count": null,
   "id": "26cd83fc4939afd7",
   "metadata": {},
   "outputs": [],
   "source": [
    "from Utils.auto_eval import grade\n",
    "from Utils.llm.config import Model\n",
    "\n",
    "grade(model=Model.GPT5_0807, summary_filename=\"summary.csv\")\n",
    "# grade(model=Model.GPT5_0807, summary_filename=\"summary_multimodal.csv\")"
   ]
  }
 ],
 "metadata": {
  "kernelspec": {
   "display_name": "airun-llm-benchmark-6JQ02HIW-py3.12",
   "language": "python",
   "name": "python3"
  },
  "language_info": {
   "codemirror_mode": {
    "name": "ipython",
    "version": 3
   },
   "file_extension": ".py",
   "mimetype": "text/x-python",
   "name": "python",
   "nbconvert_exporter": "python",
   "pygments_lexer": "ipython3",
   "version": "3.12.9"
  }
 },
 "nbformat": 4,
 "nbformat_minor": 5
}
