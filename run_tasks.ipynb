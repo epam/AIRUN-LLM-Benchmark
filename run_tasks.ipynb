{
 "cells": [
  {
   "cell_type": "code",
   "execution_count": null,
   "id": "221b5ef932f6c5cd",
   "metadata": {},
   "outputs": [],
   "source": [
    "from Utils.llm.config import Model\n",
    "from Utils.execute_test import main as execute\n",
    "\n",
    "attempts = 1  # how much times each experiment will be launched\n",
    "\n",
    "# tasks to launch (will be launched only this task)\n",
    "spot_launch_list = [\n",
    "    # 'GenerateReactApp.md',\n",
    "]\n",
    "\n",
    "# tasks to skip\n",
    "skip_list = [\n",
    "    # \"UpdateReact_ReactSearchJob_avg_high.md\",\n",
    "    # 'GenerateReactApp.md',\n",
    "]\n",
    "\n",
    "model = Model.Grok_Code_0825\n",
    "lang = \"JS\"  # language specific folder name, if your files in Dataset/JS use JS\n",
    "execute(model, lang, attempts, spot_launch_list, skip_list)"
   ]
  },
  {
   "cell_type": "code",
   "execution_count": null,
   "id": "998c79bbd664524c",
   "metadata": {},
   "outputs": [],
   "source": [
    "# create summary report\n",
    "from Utils.get_tokens_and_time import main as summarize\n",
    "from Utils.llm.config import Model\n",
    "\n",
    "langs = [\n",
    "    \"JS\",\n",
    "    # 'Java',\n",
    "]\n",
    "\n",
    "models = [\n",
    "    Model.Grok_Code_0825,\n",
    "]\n",
    "\n",
    "summarize(models=models, langs=langs, output_filename=\"summary.csv\")\n",
    "summarize(models=models, langs=langs, categories=[\"multimodal\"], output_filename=\"summary_multimodal.csv\")"
   ]
  },
  {
   "cell_type": "code",
   "execution_count": null,
   "id": "f0ba983e7cc988bd",
   "metadata": {},
   "outputs": [],
   "source": [
    "from Utils.auto_eval import evaluate\n",
    "from Utils.llm.config import Model\n",
    "\n",
    "# evaluate model results based on summary report\n",
    "evaluate(model=Model.Grok_Code_0825, summary_filename=\"summary.csv\")\n",
    "evaluate(model=Model.Grok_Code_0825, summary_filename=\"summary_multimodal.csv\")"
   ]
  },
  {
   "cell_type": "code",
   "execution_count": null,
   "id": "34dfc7357b25d540",
   "metadata": {},
   "outputs": [],
   "source": []
  }
 ],
 "metadata": {
  "kernelspec": {
   "display_name": "airun-llm-benchmark-6JQ02HIW-py3.12",
   "language": "python",
   "name": "python3"
  },
  "language_info": {
   "codemirror_mode": {
    "name": "ipython",
    "version": 3
   },
   "file_extension": ".py",
   "mimetype": "text/x-python",
   "name": "python",
   "nbconvert_exporter": "python",
   "pygments_lexer": "ipython3",
   "version": "3.12.9"
  }
 },
 "nbformat": 4,
 "nbformat_minor": 5
}
