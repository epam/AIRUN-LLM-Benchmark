{
 "cells": [
  {
   "metadata": {},
   "cell_type": "code",
   "outputs": [],
   "execution_count": null,
   "source": [
    "from Utils.llm.config import Model\n",
    "from Utils.execute_test import main as execute\n",
    "\n",
    "attempts = 1  # how much times each experiment will be launched\n",
    "\n",
    "# tasks to launch (will be launched only this task)\n",
    "spot_launch_list = [\n",
    "    # 'GenerateReactApp.md',\n",
    "]\n",
    "\n",
    "# tasks to skip\n",
    "skip_list = [\n",
    "    # 'GenerateReactApp.md',\n",
    "]\n",
    "\n",
    "model = Model.GPT5_Mini_high\n",
    "lang = \"JS\"  # language specific folder name, if your files in Dataset/JS use JS\n",
    "execute(model, lang, attempts, spot_launch_list, skip_list, categories_skip_list=['multimodal'])\n",
    "# execute(model, lang, attempts, spot_launch_list, skip_list, categories_launch_list=['multimodal'])"
   ],
   "id": "23143bf77b365dc7"
  },
  {
   "metadata": {},
   "cell_type": "code",
   "outputs": [],
   "execution_count": null,
   "source": [
    "# create summary report\n",
    "from Utils.get_tokens_and_time import main as summarize\n",
    "from Utils.llm.config import Model\n",
    "\n",
    "langs = [\n",
    "    \"JS\",\n",
    "    # 'Java',\n",
    "]\n",
    "\n",
    "models = [\n",
    "    Model.GPT5_Mini_high,\n",
    "]\n",
    "\n",
    "summarize(models=models, langs=langs, output_filename=\"summary.csv\")\n",
    "# summarize(models=models, langs=langs, categories=[\"multimodal\"], output_filename=\"summary_multimodal.csv\")"
   ],
   "id": "92bb871b6adc76c7"
  },
  {
   "metadata": {},
   "cell_type": "code",
   "source": [
    "from Utils.auto_eval import evaluate\n",
    "from Utils.llm.config import Model\n",
    "\n",
    "# evaluate model results based on summary report\n",
    "model = Model.GPT5_Mini_high\n",
    "evaluate(model=model, summary_filename=\"summary.csv\")\n",
    "# evaluate(model=model, summary_filename=\"summary_multimodal.csv\")"
   ],
   "id": "80de6e3d1851c26",
   "outputs": [],
   "execution_count": null
  },
  {
   "metadata": {},
   "cell_type": "code",
   "source": [
    "from Utils.auto_eval import grade\n",
    "from Utils.llm.config import Model\n",
    "\n",
    "model = Model.GPT5_Mini_high\n",
    "grade(model=model, summary_filename=\"summary.csv\")\n",
    "# grade(model=model, summary_filename=\"summary_multimodal.csv\")"
   ],
   "id": "d13434de869a8673",
   "outputs": [],
   "execution_count": null
  },
  {
   "metadata": {},
   "cell_type": "code",
   "source": "",
   "id": "747119403a3f9742",
   "outputs": [],
   "execution_count": null
  }
 ],
 "metadata": {
  "kernelspec": {
   "display_name": "airun-llm-benchmark-6JQ02HIW-py3.12",
   "language": "python",
   "name": "python3"
  },
  "language_info": {
   "codemirror_mode": {
    "name": "ipython",
    "version": 3
   },
   "file_extension": ".py",
   "mimetype": "text/x-python",
   "name": "python",
   "nbconvert_exporter": "python",
   "pygments_lexer": "ipython3",
   "version": "3.12.9"
  }
 },
 "nbformat": 4,
 "nbformat_minor": 5
}
